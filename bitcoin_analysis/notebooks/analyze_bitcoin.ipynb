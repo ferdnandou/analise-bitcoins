# Célula 1: Importação de Bibliotecas
import pandas as pd
import matplotlib.pyplot as plt

# Célula 2: Carregar e Explorar os Dados
file_path = 'data/bitcoin_data.csv'
df = pd.read_csv(file_path)

df.head(), df.info(), df.describe()

# Célula 3: Converter a Coluna de Datas
df['Date'] = pd.to_datetime(df['Date'])
df.set_index('Date', inplace=True)

# Célula 4: Gráfico de Preço de Fechamento
plt.figure(figsize=(12, 6))
plt.plot(df.index, df['Close'], label='Preço de Fechamento', color='blue')
plt.xlabel('Data')
plt.ylabel('Preço de Fechamento em USD')
plt.title('Variação do Preço de Fechamento do Bitcoin')
plt.legend()
plt.xticks(rotation=45)
plt.tight_layout()
plt.savefig('reports/bitcoin_closing_price.png')
plt.show()

# Célula 5: Gráfico de Volume de Negociação
plt.figure(figsize=(12, 6))
plt.plot(df.index, df['Volume'], label='Volume de Negociação', color='orange')
plt.xlabel('Data')
plt.ylabel('Volume de Negociação')
plt.title('Volume de Negociação do Bitcoin ao Longo do Tempo')
plt.legend()
plt.xticks(rotation=45)
plt.tight_layout()
plt.savefig('reports/bitcoin_volume.png')
plt.show()
